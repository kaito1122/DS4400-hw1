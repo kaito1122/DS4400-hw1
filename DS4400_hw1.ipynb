{
 "cells": [
  {
   "cell_type": "markdown",
   "id": "7b5916e5",
   "metadata": {},
   "source": [
    "Kaito Minami"
   ]
  },
  {
   "cell_type": "markdown",
   "id": "48fc51a5",
   "metadata": {},
   "source": [
    "## Problem 4 [Matrix transpose and inverse] 20 points\n",
    "\\[C](C) Generate at random 3 matrices of size 3 × 3 and fill each entry with a random integer chosen from -10 to 10. Use an existing package to compute the inverse of each matrix if it exists.\n",
    "\n",
    "Include in your report:\n",
    " - Each of the 3 matrices\n",
    " - The inverses computed with the package\n",
    " - Compute the product of each matrix with its inverse to check that you obtain the identity matrix."
   ]
  },
  {
   "cell_type": "code",
   "execution_count": 1,
   "id": "132cc1e8",
   "metadata": {},
   "outputs": [],
   "source": [
    "import numpy as np\n",
    "import random as rand"
   ]
  },
  {
   "cell_type": "code",
   "execution_count": 2,
   "id": "4ab8d7b4",
   "metadata": {},
   "outputs": [
    {
     "name": "stdout",
     "output_type": "stream",
     "text": [
      "[[ 3. -2.  6.]\n",
      " [ 4. -1.  6.]\n",
      " [ 2. -3.  4.]]\n",
      "[[-8.  4. 10.]\n",
      " [-5.  6. -6.]\n",
      " [-3. -8.  8.]]\n",
      "[[-10.   2.  -2.]\n",
      " [ -6.   8.  -2.]\n",
      " [ -5.   8. -10.]]\n"
     ]
    }
   ],
   "source": [
    "mat1 = np.zeros((3,3))\n",
    "mat2 = np.zeros((3,3))\n",
    "mat3 = np.zeros((3,3))\n",
    "\n",
    "for mat in [mat1, mat2, mat3]:\n",
    "    for i in range(mat.shape[0]):\n",
    "        for j in range(mat.shape[1]):\n",
    "            mat[i][j] = rand.randint(-10,10)\n",
    "        \n",
    "print(mat1)\n",
    "print(mat2)\n",
    "print(mat3)"
   ]
  },
  {
   "cell_type": "code",
   "execution_count": 3,
   "id": "1771539c",
   "metadata": {},
   "outputs": [],
   "source": [
    "\"\"\" \n",
    "A = [[a,b],[c,d]]\n",
    "A^-1 = 1/(ad-bc) [[d, -b],[-c, a]]\n",
    "A^-1 = (1/|A|)Adj A\n",
    "\"\"\"\n",
    "\n",
    "def find_inverse(mat):\n",
    "    \"\"\" find the inverse matrix of given matrix\n",
    "    mat (Numpy array): input matrix\n",
    "    returns:: inverse matrix of input matrix\n",
    "    \"\"\"\n",
    "    # for convenience, assume 3x3 shape\n",
    "    iv_mat = np.zeros(mat.shape)\n",
    "    det = 0.0\n",
    "    odd = True\n",
    "    \n",
    "    for i in range(mat.shape[0]):\n",
    "        col = list(range(mat.shape[0]))\n",
    "        col.remove(i)\n",
    "        if i%2 == 0:\n",
    "            det += mat[0][i] * ((mat[1][col[0]] * mat[2][col[1]]) - (mat[1][col[1]] * mat[2][col[0]]))\n",
    "        else:\n",
    "            det -= mat[0][i] * ((mat[1][col[0]] * mat[2][col[1]]) - (mat[1][col[1]] * mat[2][col[0]]))\n",
    "            \n",
    "    if det == 0:\n",
    "        print('This matrix does not have inverse')\n",
    "        return 0\n",
    "\n",
    "    for i in range(iv_mat.shape[0]):\n",
    "        col = list(range(mat.shape[0]))\n",
    "        col.remove(i)\n",
    "        for j in range(iv_mat.shape[1]):\n",
    "            row = list(range(mat.shape[1]))\n",
    "            row.remove(j)\n",
    "            if odd:\n",
    "                sign = 1.0\n",
    "            else:\n",
    "                sign = -1.0\n",
    "            \n",
    "            iv_mat[i][j] = (sign/det) * ((mat[row[0]][col[0]] * mat[row[1]][col[1]]) - (mat[row[0]][col[1]] * mat[row[1]][col[0]]))\n",
    "            odd = not odd\n",
    "\n",
    "    print(mat)\n",
    "    return iv_mat\n",
    "\n",
    "def multiply_matrix(mat1, mat2):\n",
    "    \"\"\" Multiplies and returns the result of two matrices multiplication\n",
    "    mat1: Matrix 1\n",
    "    mat2: Matrix 2\n",
    "    result:: Result of Matrix 1 and Matrix 2 multiplication\n",
    "    \"\"\"\n",
    "    # for convenience, assume 3x3\n",
    "    mul = np.zeros((mat2.shape[0], mat1.shape[1]))\n",
    "    idx = 0\n",
    "    jdx = 0\n",
    "    val = 0\n",
    "    count = 0\n",
    "    \n",
    "    while count < mat2.shape[0] * mat1.shape[1]:\n",
    "        for j in range(mat2.shape[1]):\n",
    "            val += mat1[idx][j] * mat2[j][jdx]\n",
    "        mul[idx][jdx] = val\n",
    "        val = 0\n",
    "        jdx += 1\n",
    "        count += 1\n",
    "        \n",
    "        if count%mat2.shape[0] == 0:\n",
    "            idx += 1\n",
    "        if jdx == mat1.shape[1]:\n",
    "            jdx = 0\n",
    "        \n",
    "    return mul\n",
    "\n",
    "def scaling_matrix(mat):\n",
    "    \"\"\" Scaling matrix to achieve identity or ranked matrix\n",
    "    mat (Numpy array): input matrix\n",
    "    returns:: scaled input matrix\n",
    "    \"\"\"\n",
    "    # for convenience, assume 3x3\n",
    "    for i in range(mat.shape[0]):\n",
    "        mat[0][i] /= mat[0][0]\n",
    "        mat[1][i] -= mat[0][i] * mat[1][i]\n",
    "        mat[2][i] -= mat[0][i] * mat[2][i]\n",
    "        \n",
    "    for i in range(mat.shape[0]):\n",
    "        mat[1][i] /= mat[1][1]\n",
    "        mat[0][i] -= mat[1][i] * mat[0][i]\n",
    "        mat[2][i] -= mat[1][i] * mat[2][i]\n",
    "        \n",
    "    for i in range(mat.shape[0]):\n",
    "        mat[2][i] /= mat[2][2]\n",
    "        mat[0][i] -= mat[2][i] * mat[0][i]\n",
    "        mat[1][i] -= mat[2][i] * mat[1][i]\n",
    "        \n",
    "    return mat\n",
    "\n",
    "def computational_result(mat):\n",
    "    return multiply_matrix(mat, find_inverse(mat))"
   ]
  },
  {
   "cell_type": "code",
   "execution_count": 4,
   "id": "279bfc26",
   "metadata": {},
   "outputs": [
    {
     "name": "stdout",
     "output_type": "stream",
     "text": [
      "[[ 3. -2.  6.]\n",
      " [ 4. -1.  6.]\n",
      " [ 2. -3.  4.]]\n"
     ]
    },
    {
     "data": {
      "text/plain": [
       "array([[-1.4,  1. ,  0.6],\n",
       "       [ 0.4, -0. , -0.6],\n",
       "       [ 1. , -0.5, -0.5]])"
      ]
     },
     "execution_count": 4,
     "metadata": {},
     "output_type": "execute_result"
    }
   ],
   "source": [
    "find_inverse(mat1)"
   ]
  },
  {
   "cell_type": "code",
   "execution_count": 6,
   "id": "68fbaa55",
   "metadata": {},
   "outputs": [
    {
     "name": "stdout",
     "output_type": "stream",
     "text": [
      "[[-8.  4. 10.]\n",
      " [-5.  6. -6.]\n",
      " [-3. -8.  8.]]\n"
     ]
    },
    {
     "data": {
      "text/plain": [
       "array([[ 0.        , -0.13793103, -0.10344828],\n",
       "       [ 0.07142857, -0.04187192, -0.12068966],\n",
       "       [ 0.07142857, -0.09359606, -0.03448276]])"
      ]
     },
     "execution_count": 6,
     "metadata": {},
     "output_type": "execute_result"
    }
   ],
   "source": [
    "find_inverse(mat2)"
   ]
  },
  {
   "cell_type": "code",
   "execution_count": 8,
   "id": "5e27fcb8",
   "metadata": {},
   "outputs": [
    {
     "name": "stdout",
     "output_type": "stream",
     "text": [
      "[[-10.   2.  -2.]\n",
      " [ -6.   8.  -2.]\n",
      " [ -5.   8. -10.]]\n"
     ]
    },
    {
     "data": {
      "text/plain": [
       "array([[-0.11510791,  0.00719424,  0.02158273],\n",
       "       [-0.08992806,  0.1618705 , -0.01438849],\n",
       "       [-0.01438849,  0.12589928, -0.12230216]])"
      ]
     },
     "execution_count": 8,
     "metadata": {},
     "output_type": "execute_result"
    }
   ],
   "source": [
    "find_inverse(mat3)"
   ]
  },
  {
   "cell_type": "code",
   "execution_count": 10,
   "id": "7d8f5bea",
   "metadata": {},
   "outputs": [
    {
     "name": "stdout",
     "output_type": "stream",
     "text": [
      "[[ 3. -2.  6.]\n",
      " [ 4. -1.  6.]\n",
      " [ 2. -3.  4.]]\n"
     ]
    },
    {
     "data": {
      "text/plain": [
       "array([[ 1.0000000e+00,  0.0000000e+00,  4.4408921e-16],\n",
       "       [-8.8817842e-16,  1.0000000e+00,  4.4408921e-16],\n",
       "       [ 0.0000000e+00,  0.0000000e+00,  1.0000000e+00]])"
      ]
     },
     "execution_count": 10,
     "metadata": {},
     "output_type": "execute_result"
    }
   ],
   "source": [
    "computational_result(mat1)"
   ]
  },
  {
   "cell_type": "code",
   "execution_count": 11,
   "id": "d447bad2",
   "metadata": {},
   "outputs": [
    {
     "name": "stdout",
     "output_type": "stream",
     "text": [
      "[[ 3. -2.  6.]\n",
      " [ 4. -1.  6.]\n",
      " [ 2. -3.  4.]]\n"
     ]
    },
    {
     "data": {
      "text/plain": [
       "array([[1., 0., 0.],\n",
       "       [0., 1., 0.],\n",
       "       [0., 0., 1.]])"
      ]
     },
     "execution_count": 11,
     "metadata": {},
     "output_type": "execute_result"
    }
   ],
   "source": [
    "scaling_matrix(computational_result(mat1))"
   ]
  },
  {
   "cell_type": "code",
   "execution_count": 12,
   "id": "e7245731",
   "metadata": {},
   "outputs": [
    {
     "name": "stdout",
     "output_type": "stream",
     "text": [
      "[[-8.  4. 10.]\n",
      " [-5.  6. -6.]\n",
      " [-3. -8.  8.]]\n"
     ]
    },
    {
     "data": {
      "text/plain": [
       "array([[ 1.00000000e+00,  0.00000000e+00, -5.55111512e-17],\n",
       "       [ 0.00000000e+00,  1.00000000e+00,  2.77555756e-17],\n",
       "       [ 0.00000000e+00,  0.00000000e+00,  1.00000000e+00]])"
      ]
     },
     "execution_count": 12,
     "metadata": {},
     "output_type": "execute_result"
    }
   ],
   "source": [
    "computational_result(mat2)"
   ]
  },
  {
   "cell_type": "code",
   "execution_count": 13,
   "id": "cfbf7a29",
   "metadata": {},
   "outputs": [
    {
     "name": "stdout",
     "output_type": "stream",
     "text": [
      "[[-8.  4. 10.]\n",
      " [-5.  6. -6.]\n",
      " [-3. -8.  8.]]\n"
     ]
    },
    {
     "data": {
      "text/plain": [
       "array([[1., 0., 0.],\n",
       "       [0., 1., 0.],\n",
       "       [0., 0., 1.]])"
      ]
     },
     "execution_count": 13,
     "metadata": {},
     "output_type": "execute_result"
    }
   ],
   "source": [
    "scaling_matrix(computational_result(mat2))"
   ]
  },
  {
   "cell_type": "code",
   "execution_count": 14,
   "id": "e1fde4be",
   "metadata": {},
   "outputs": [
    {
     "name": "stdout",
     "output_type": "stream",
     "text": [
      "[[-10.   2.  -2.]\n",
      " [ -6.   8.  -2.]\n",
      " [ -5.   8. -10.]]\n"
     ]
    },
    {
     "data": {
      "text/plain": [
       "array([[ 1.00000000e+00,  5.55111512e-17, -2.77555756e-17],\n",
       "       [-4.16333634e-17,  1.00000000e+00,  0.00000000e+00],\n",
       "       [-1.11022302e-16,  2.22044605e-16,  1.00000000e+00]])"
      ]
     },
     "execution_count": 14,
     "metadata": {},
     "output_type": "execute_result"
    }
   ],
   "source": [
    "computational_result(mat3)"
   ]
  },
  {
   "cell_type": "code",
   "execution_count": 15,
   "id": "9200dcdb",
   "metadata": {},
   "outputs": [
    {
     "name": "stdout",
     "output_type": "stream",
     "text": [
      "[[-10.   2.  -2.]\n",
      " [ -6.   8.  -2.]\n",
      " [ -5.   8. -10.]]\n"
     ]
    },
    {
     "data": {
      "text/plain": [
       "array([[1., 0., 0.],\n",
       "       [0., 1., 0.],\n",
       "       [0., 0., 1.]])"
      ]
     },
     "execution_count": 15,
     "metadata": {},
     "output_type": "execute_result"
    }
   ],
   "source": [
    "scaling_matrix(computational_result(mat3))"
   ]
  },
  {
   "cell_type": "markdown",
   "id": "7e0459e1",
   "metadata": {},
   "source": [
    "## [C] Problem 5 [Average, variance, and correlation] 20 points\n",
    "Dataset: The dataset for this assignment is available here. The prediction task is to predict the\n",
    "price of a house (column price) given the other features. Please ignore the columns id and date, as well as the categorical column zipcode. File “kc house data.csv” includes all the records in the dataset. You should use the entire dataset for the assignment. You can also find a Word document including the feature description in the same folder.\n",
    "\n",
    "In this problem, we will perform some exploratory data analysis using the house price dataset."
   ]
  },
  {
   "cell_type": "markdown",
   "id": "77831df3",
   "metadata": {},
   "source": [
    "(a) For each feature, write code to compute the average value, the min and max values, as well as its variance.\n",
    "Which features have the lowest and the highest average? Include the feature name and their average values for the features with the lowest and highest average.\n",
    "Which features have the lowest and the highest variance? Include the feature name and their variance values for the features with the lowest and highest variance."
   ]
  },
  {
   "cell_type": "code",
   "execution_count": 16,
   "id": "82346852",
   "metadata": {},
   "outputs": [],
   "source": [
    "import pandas as pd"
   ]
  },
  {
   "cell_type": "code",
   "execution_count": 17,
   "id": "aeb8962d",
   "metadata": {},
   "outputs": [],
   "source": [
    "kc_house = pd.read_csv('hw1_data/kc_house_data.csv')\n",
    "# print(kc_house.head())\n",
    "\n",
    "# Create your own mean, max, min, variation, correlation\n",
    "# print(kc_house.describe())\n",
    "# print('Variables: \\n', kc_house.var(numeric_only = True))"
   ]
  },
  {
   "cell_type": "code",
   "execution_count": 18,
   "id": "f1f4398c",
   "metadata": {},
   "outputs": [],
   "source": [
    "def get_avg(df):\n",
    "    \"\"\" get average value stats for each columns in input DataFrame\n",
    "    df (DataFrame): data\n",
    "    returns:: dictionary of average value stats for each columns\n",
    "    \"\"\"\n",
    "    col = list(df.columns)\n",
    "    avg_dic = dict()\n",
    "    summed = 0\n",
    "    for c in col:\n",
    "        for i in range(df.shape[0]):\n",
    "            if isinstance(df.loc[i, c], str):\n",
    "                summed = 'null'\n",
    "            else:\n",
    "                summed += df.at[i, c]\n",
    "        if summed != 'null':\n",
    "            avg_dic[c] = summed / df.shape[0]\n",
    "        summed = 0\n",
    "    return avg_dic\n",
    "\n",
    "def get_min(df):\n",
    "    \"\"\" get minimum value stats for each columns in input DataFrame\n",
    "    df (DataFrame): data\n",
    "    returns:: dictionary of minimum value stats for each columns\n",
    "    \"\"\"\n",
    "    col = list(df.columns)\n",
    "    min_dic = dict()\n",
    "    \n",
    "    for c in col:\n",
    "        min_place = df.at[0, c]\n",
    "        for i in range(df.shape[0]):\n",
    "            if min_place > df.at[i, c]:\n",
    "                min_place = df.at[i, c]\n",
    "        if isinstance(min_place, str) == False:\n",
    "            min_dic[c] = min_place\n",
    "    \n",
    "    return min_dic\n",
    "\n",
    "def get_max(df):\n",
    "    \"\"\" get maximum value stats for each columns in input DataFrame\n",
    "    df (DataFrame): data\n",
    "    returns:: dictionary of maximum value stats for each columns\n",
    "    \"\"\"\n",
    "    col = list(df.columns)\n",
    "    max_dic = dict()\n",
    "    \n",
    "    for c in col:\n",
    "        max_place = df.at[0, c]\n",
    "        for i in range(df.shape[0]):\n",
    "            if max_place < df.at[i, c]:\n",
    "                max_place = df.at[i, c]\n",
    "        if isinstance(max_place, str) == False:\n",
    "            max_dic[c] = max_place\n",
    "    \n",
    "    return max_dic\n",
    "\n",
    "def get_var(df):\n",
    "    \"\"\" get variance value stats for each columns in input DataFrame\n",
    "    df (DataFrame): data\n",
    "    returns:: dictionary of variance value stats for each columns\n",
    "    \"\"\"\n",
    "    col = list(df.columns)\n",
    "    avg = get_avg(df)\n",
    "    var_dic = dict()\n",
    "    summed = 0\n",
    "    \n",
    "    for c in col:\n",
    "        if c in avg.keys():\n",
    "            for i in range(df.shape[0]):\n",
    "                summed += (df.at[i,c] - avg[c])**2\n",
    "            var_dic[c] = summed / (df.shape[0] - 1)\n",
    "            summed = 0\n",
    "    \n",
    "    return var_dic\n",
    "\n",
    "def find_highlow(dic):\n",
    "    \"\"\" get the highest and lowest value index out of dictionary\n",
    "    dic (dict): dictionary of key (str) and value (int or float)\n",
    "    returns:: list with highest and lowest value index [highest, lowest]\n",
    "    \"\"\"\n",
    "    val = list(dic.values())\n",
    "    min_place = val[0]\n",
    "    max_place = val[0]\n",
    "    i = 0\n",
    "    j = 0\n",
    "    k = 0\n",
    "    for v in val:\n",
    "        if v > max_place:\n",
    "            max_place = v\n",
    "            i = k\n",
    "        if v < min_place:\n",
    "            min_place = v\n",
    "            j = k\n",
    "        k += 1\n",
    "    return [i,j]"
   ]
  },
  {
   "cell_type": "code",
   "execution_count": 19,
   "id": "deea8dc2",
   "metadata": {},
   "outputs": [
    {
     "data": {
      "text/plain": [
       "{'id': 4580301520.864988,\n",
       " 'price': 540088.1417665294,\n",
       " 'bedrooms': 3.37084162309721,\n",
       " 'bathrooms': 2.1147573219821405,\n",
       " 'sqft_living': 2079.8997362698374,\n",
       " 'sqft_lot': 15106.967565816869,\n",
       " 'floors': 1.4943089807060566,\n",
       " 'waterfront': 0.007541757275713691,\n",
       " 'view': 0.23430342849211122,\n",
       " 'condition': 3.4094295100171195,\n",
       " 'grade': 7.656873178179799,\n",
       " 'sqft_above': 1788.3906907879516,\n",
       " 'sqft_basement': 291.5090454818859,\n",
       " 'yr_built': 1971.0051357978994,\n",
       " 'yr_renovated': 84.40225790033776,\n",
       " 'zipcode': 98077.93980474715,\n",
       " 'lat': 47.56005251931704,\n",
       " 'long': -122.21389640494083,\n",
       " 'sqft_living15': 1986.552491556008,\n",
       " 'sqft_lot15': 12768.455651691113}"
      ]
     },
     "execution_count": 19,
     "metadata": {},
     "output_type": "execute_result"
    }
   ],
   "source": [
    "get_avg(kc_house)"
   ]
  },
  {
   "cell_type": "code",
   "execution_count": 20,
   "id": "fbf9df83",
   "metadata": {},
   "outputs": [
    {
     "data": {
      "text/plain": [
       "{'id': 1000102,\n",
       " 'price': 75000.0,\n",
       " 'bedrooms': 0,\n",
       " 'bathrooms': 0.0,\n",
       " 'sqft_living': 290,\n",
       " 'sqft_lot': 520,\n",
       " 'floors': 1.0,\n",
       " 'waterfront': 0,\n",
       " 'view': 0,\n",
       " 'condition': 1,\n",
       " 'grade': 1,\n",
       " 'sqft_above': 290,\n",
       " 'sqft_basement': 0,\n",
       " 'yr_built': 1900,\n",
       " 'yr_renovated': 0,\n",
       " 'zipcode': 98001,\n",
       " 'lat': 47.1559,\n",
       " 'long': -122.519,\n",
       " 'sqft_living15': 399,\n",
       " 'sqft_lot15': 651}"
      ]
     },
     "execution_count": 20,
     "metadata": {},
     "output_type": "execute_result"
    }
   ],
   "source": [
    "get_min(kc_house)"
   ]
  },
  {
   "cell_type": "code",
   "execution_count": 21,
   "id": "a4c4f204",
   "metadata": {},
   "outputs": [
    {
     "data": {
      "text/plain": [
       "{'id': 9900000190,\n",
       " 'price': 7700000.0,\n",
       " 'bedrooms': 33,\n",
       " 'bathrooms': 8.0,\n",
       " 'sqft_living': 13540,\n",
       " 'sqft_lot': 1651359,\n",
       " 'floors': 3.5,\n",
       " 'waterfront': 1,\n",
       " 'view': 4,\n",
       " 'condition': 5,\n",
       " 'grade': 13,\n",
       " 'sqft_above': 9410,\n",
       " 'sqft_basement': 4820,\n",
       " 'yr_built': 2015,\n",
       " 'yr_renovated': 2015,\n",
       " 'zipcode': 98199,\n",
       " 'lat': 47.7776,\n",
       " 'long': -121.315,\n",
       " 'sqft_living15': 6210,\n",
       " 'sqft_lot15': 871200}"
      ]
     },
     "execution_count": 21,
     "metadata": {},
     "output_type": "execute_result"
    }
   ],
   "source": [
    "get_max(kc_house)"
   ]
  },
  {
   "cell_type": "code",
   "execution_count": 22,
   "id": "5b603ad1",
   "metadata": {},
   "outputs": [
    {
     "data": {
      "text/plain": [
       "{'id': 8.274629486057814e+18,\n",
       " 'price': 134782378397.24681,\n",
       " 'bedrooms': 0.8650150097573724,\n",
       " 'bathrooms': 0.5931512887355798,\n",
       " 'sqft_living': 843533.6813681519,\n",
       " 'sqft_lot': 1715658774.1754541,\n",
       " 'floors': 0.29158800687709074,\n",
       " 'waterfront': 0.007485225502689098,\n",
       " 'view': 0.5872426169774596,\n",
       " 'condition': 0.42346651239404876,\n",
       " 'grade': 1.3817032893475767,\n",
       " 'sqft_above': 685734.6672685045,\n",
       " 'sqft_basement': 195872.66840094145,\n",
       " 'yr_built': 862.7972621659717,\n",
       " 'yr_renovated': 161346.2118623043,\n",
       " 'zipcode': 2862.7878348129493,\n",
       " 'lat': 0.01919990179600803,\n",
       " 'long': 0.019832622017890593,\n",
       " 'sqft_living15': 469761.23994532274,\n",
       " 'sqft_lot15': 745518225.3404043}"
      ]
     },
     "execution_count": 22,
     "metadata": {},
     "output_type": "execute_result"
    }
   ],
   "source": [
    "get_var(kc_house)"
   ]
  },
  {
   "cell_type": "code",
   "execution_count": 23,
   "id": "59b6c355",
   "metadata": {},
   "outputs": [
    {
     "name": "stdout",
     "output_type": "stream",
     "text": [
      "Highest average is:  id 4580301520.864988\n",
      "Lowest average is:  long -122.21389640494083\n"
     ]
    }
   ],
   "source": [
    "avg = get_avg(kc_house)\n",
    "highlow = find_highlow(avg)\n",
    "\n",
    "print('Highest average is: ', list(avg.keys())[highlow[0]], list(avg.values())[highlow[0]])\n",
    "print('Lowest average is: ', list(avg.keys())[highlow[1]], list(avg.values())[highlow[1]])"
   ]
  },
  {
   "cell_type": "code",
   "execution_count": 24,
   "id": "adaef0fc",
   "metadata": {},
   "outputs": [
    {
     "name": "stdout",
     "output_type": "stream",
     "text": [
      "Highest variance is:  id 8.274629486057814e+18\n",
      "Lowest variance is:  waterfront 0.007485225502689098\n"
     ]
    }
   ],
   "source": [
    "var = get_var(kc_house)\n",
    "highlow = find_highlow(var)\n",
    "\n",
    "print('Highest variance is: ', list(var.keys())[highlow[0]], list(var.values())[highlow[0]])\n",
    "print('Lowest variance is: ', list(var.keys())[highlow[1]], list(var.values())[highlow[1]])"
   ]
  },
  {
   "cell_type": "markdown",
   "id": "a3fb95f8",
   "metadata": {},
   "source": [
    "(b) Compute the correlation coefficient of each feature with the response. Include a table with the correlation coefficient of each feature with the response. Which features are positively correlated (i.e., have positive correlation coefficient) with the response? Which feature has the highest positive correlation with the response?"
   ]
  },
  {
   "cell_type": "code",
   "execution_count": 25,
   "id": "0ff59a7e",
   "metadata": {},
   "outputs": [],
   "source": [
    "def get_corr(df, response):\n",
    "    \"\"\" get correlation value stats for each columns relative to response column in input DataFrame\n",
    "    df (DataFrame): data\n",
    "    response (str): a column name for response/target variable\n",
    "    returns:: dictionary of correlation value stats for each columns relative to response column\n",
    "    \"\"\"\n",
    "    col = list(df.columns)\n",
    "    corr_dic = dict()\n",
    "    \n",
    "    avg = get_avg(df)\n",
    "    y_hat = avg[response]\n",
    "    y_hats = sum([(y - y_hat)**2 for y in list(df[response])])\n",
    "    \n",
    "    for c in col:\n",
    "        sigma_xy = 0\n",
    "        if c in avg.keys() and c != response:\n",
    "            x_hat = avg[c]\n",
    "            x_hats = sum([(x - x_hat)**2 for x in list(df[c])])\n",
    "            \n",
    "            for i in range(df.shape[0]):\n",
    "                sigma_xy += (df.at[i, c] - x_hat) * (df.at[i, response] - y_hat)\n",
    "            \n",
    "            corr_dic[c] = sigma_xy / ((x_hats * y_hats)**(1/2))\n",
    "    \n",
    "    return corr_dic\n",
    "\n",
    "def find_pos(dic):\n",
    "    \"\"\" get the positive value index out of dictionary\n",
    "    dic (dict): dictionary of key(str) and value(int or float)\n",
    "    returns:: list of positive value index\n",
    "    \"\"\"\n",
    "    val = list(dic.values())\n",
    "    pos = []\n",
    "    k = 0\n",
    "    \n",
    "    for v in val:\n",
    "        if v > 0:\n",
    "            pos.append(k)\n",
    "        k += 1\n",
    "    \n",
    "    return pos"
   ]
  },
  {
   "cell_type": "code",
   "execution_count": 26,
   "id": "25127fb4",
   "metadata": {},
   "outputs": [
    {
     "data": {
      "text/plain": [
       "{'id': -0.016762196614445113,\n",
       " 'bedrooms': 0.3083495981456364,\n",
       " 'bathrooms': 0.5251375054139724,\n",
       " 'sqft_living': 0.7020350546118009,\n",
       " 'sqft_lot': 0.08966086058710003,\n",
       " 'floors': 0.25679388755070176,\n",
       " 'waterfront': 0.26636943403055346,\n",
       " 'view': 0.3972934882944871,\n",
       " 'condition': 0.03636178912899409,\n",
       " 'grade': 0.667434256020255,\n",
       " 'sqft_above': 0.6055672983560842,\n",
       " 'sqft_basement': 0.323816020712004,\n",
       " 'yr_built': 0.05401153149478604,\n",
       " 'yr_renovated': 0.12643379344092243,\n",
       " 'zipcode': -0.05320285429832495,\n",
       " 'lat': 0.3070034799952177,\n",
       " 'long': 0.021626241039307104,\n",
       " 'sqft_living15': 0.5853789035795697,\n",
       " 'sqft_lot15': 0.08244715251948594}"
      ]
     },
     "execution_count": 26,
     "metadata": {},
     "output_type": "execute_result"
    }
   ],
   "source": [
    "get_corr(kc_house, 'price')"
   ]
  },
  {
   "cell_type": "code",
   "execution_count": 27,
   "id": "8b2ffff1",
   "metadata": {},
   "outputs": [
    {
     "name": "stdout",
     "output_type": "stream",
     "text": [
      "Positive correlation:\n",
      "\n",
      "{'bedrooms': 0.3083495981456364, 'bathrooms': 0.5251375054139724, 'sqft_living': 0.7020350546118009, 'sqft_lot': 0.08966086058710003, 'floors': 0.25679388755070176, 'waterfront': 0.26636943403055346, 'view': 0.3972934882944871, 'condition': 0.03636178912899409, 'grade': 0.667434256020255, 'sqft_above': 0.6055672983560842, 'sqft_basement': 0.323816020712004, 'yr_built': 0.05401153149478604, 'yr_renovated': 0.12643379344092243, 'lat': 0.3070034799952177, 'long': 0.021626241039307104, 'sqft_living15': 0.5853789035795697, 'sqft_lot15': 0.08244715251948594}\n"
     ]
    }
   ],
   "source": [
    "corr = get_corr(kc_house, 'price')\n",
    "pos = find_pos(corr)\n",
    "\n",
    "print('Positive correlation:\\n')\n",
    "print({list(corr.keys())[i]: list(corr.values())[i] for i in pos})"
   ]
  },
  {
   "cell_type": "code",
   "execution_count": 28,
   "id": "ccc92745",
   "metadata": {},
   "outputs": [
    {
     "name": "stdout",
     "output_type": "stream",
     "text": [
      "Highest positive correlation:  sqft_living 0.7020350546118009\n"
     ]
    }
   ],
   "source": [
    "pos_corr = {list(corr.keys())[i]: list(corr.values())[i] for i in pos}\n",
    "high = find_highlow(pos_corr)[0]\n",
    "\n",
    "print('Highest positive correlation: ', list(pos_corr.keys())[high], list(pos_corr.values())[high])"
   ]
  },
  {
   "cell_type": "markdown",
   "id": "83928017",
   "metadata": {},
   "source": [
    "(c) Were you able to find any features with a negative correlation coefficient with the response?"
   ]
  },
  {
   "cell_type": "code",
   "execution_count": 29,
   "id": "515fff01",
   "metadata": {},
   "outputs": [
    {
     "name": "stdout",
     "output_type": "stream",
     "text": [
      "Negative correlation:\n",
      "\n",
      "{'id': -0.016762196614445113, 'zipcode': -0.05320285429832495}\n"
     ]
    }
   ],
   "source": [
    "neg = list(range(len(list(corr.values()))))\n",
    "[neg.remove(i) for i in pos][0]\n",
    "\n",
    "print('Negative correlation:\\n')\n",
    "print({list(corr.keys())[i]: list(corr.values())[i] for i in neg})"
   ]
  },
  {
   "cell_type": "code",
   "execution_count": null,
   "id": "391af9c9",
   "metadata": {},
   "outputs": [],
   "source": []
  }
 ],
 "metadata": {
  "kernelspec": {
   "display_name": "Python 3 (ipykernel)",
   "language": "python",
   "name": "python3"
  },
  "language_info": {
   "codemirror_mode": {
    "name": "ipython",
    "version": 3
   },
   "file_extension": ".py",
   "mimetype": "text/x-python",
   "name": "python",
   "nbconvert_exporter": "python",
   "pygments_lexer": "ipython3",
   "version": "3.9.12"
  }
 },
 "nbformat": 4,
 "nbformat_minor": 5
}
